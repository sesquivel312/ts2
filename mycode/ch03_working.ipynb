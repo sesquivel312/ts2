{
 "cells": [
  {
   "cell_type": "code",
   "execution_count": 1,
   "metadata": {},
   "outputs": [],
   "source": [
    "import sys\n",
    "sys.path = ['/mnt/c/Users/steve/dev/stats/ts2/code',\n",
    " '/mnt/c/Users/steve/dev/stats/ts2/mycode',\n",
    " '/usr/local/lib/python38.zip',\n",
    " '/usr/local/lib/python3.8',\n",
    " '/usr/local/lib/python3.8/lib-dynload',\n",
    " '',\n",
    " '/mnt/c/Users/steve/dev/envs/general/lib/python3.8/site-packages',\n",
    " '/mnt/c/Users/steve/dev/envs/general/lib/python3.8/site-packages/IPython/extensions',\n",
    " '/home/steve/.ipython']"
   ]
  },
  {
   "cell_type": "code",
   "execution_count": 2,
   "metadata": {},
   "outputs": [
    {
     "data": {
      "text/plain": [
       "['/mnt/c/Users/steve/dev/stats/ts2/code',\n",
       " '/mnt/c/Users/steve/dev/stats/ts2/mycode',\n",
       " '/usr/local/lib/python38.zip',\n",
       " '/usr/local/lib/python3.8',\n",
       " '/usr/local/lib/python3.8/lib-dynload',\n",
       " '',\n",
       " '/mnt/c/Users/steve/dev/envs/general/lib/python3.8/site-packages',\n",
       " '/mnt/c/Users/steve/dev/envs/general/lib/python3.8/site-packages/IPython/extensions',\n",
       " '/home/steve/.ipython']"
      ]
     },
     "execution_count": 2,
     "metadata": {},
     "output_type": "execute_result"
    }
   ],
   "source": [
    "sys.path"
   ]
  },
  {
   "cell_type": "code",
   "execution_count": 3,
   "metadata": {},
   "outputs": [
    {
     "name": "stderr",
     "output_type": "stream",
     "text": [
      "/mnt/c/Users/steve/dev/envs/general/lib/python3.8/site-packages/pandas/compat/__init__.py:85: UserWarning: Could not import the lzma module. Your installed Python is incomplete. Attempting to use lzma compression will result in a RuntimeError.\n",
      "  warnings.warn(msg)\n"
     ]
    }
   ],
   "source": [
    "import nsfg\n",
    "import thinkstats2 as ts\n",
    "import thinkplot as tp"
   ]
  },
  {
   "cell_type": "code",
   "execution_count": 4,
   "metadata": {},
   "outputs": [
    {
     "data": {
      "text/plain": [
       "Pmf({1: 0.2, 2: 0.4, 3: 0.2, 5: 0.2})"
      ]
     },
     "execution_count": 4,
     "metadata": {},
     "output_type": "execute_result"
    }
   ],
   "source": [
    "pmf = ts.Pmf([1,2,2,3,5])\n",
    "pmf"
   ]
  },
  {
   "cell_type": "code",
   "execution_count": 5,
   "metadata": {},
   "outputs": [
    {
     "name": "stdout",
     "output_type": "stream",
     "text": [
      "0\n",
      "0.4\n",
      "0\n",
      "0.4\n"
     ]
    }
   ],
   "source": [
    "print(pmf.Prob(7))\n",
    "print(pmf.Prob(2))\n",
    "print(pmf[7])\n",
    "print(pmf[2])"
   ]
  },
  {
   "cell_type": "code",
   "execution_count": 6,
   "metadata": {},
   "outputs": [
    {
     "data": {
      "text/plain": [
       "1.0"
      ]
     },
     "execution_count": 6,
     "metadata": {},
     "output_type": "execute_result"
    }
   ],
   "source": [
    "pmf.Total()"
   ]
  },
  {
   "cell_type": "code",
   "execution_count": 40,
   "metadata": {},
   "outputs": [],
   "source": [
    "dct = '../code/2002FemResp.dct'\n",
    "dat = '../code/2002FemResp.dat.gz'\n",
    "resp = nsfg.ReadFemResp(dct_file=dct, dat_file=dat)\n",
    "dct = '../code/2002FemPreg.dct'\n",
    "dat = '../code/2002FemPreg.dat.gz'\n",
    "preg = nsfg.ReadFemPreg(dct_file=dct, dat_file=dat)"
   ]
  },
  {
   "cell_type": "code",
   "execution_count": 41,
   "metadata": {},
   "outputs": [],
   "source": [
    "live = preg[preg.outcome == 1]"
   ]
  },
  {
   "cell_type": "code",
   "execution_count": 43,
   "metadata": {},
   "outputs": [],
   "source": [
    "first = live[live.birthord == 1]\n",
    "other = live[live.birthord != 1]"
   ]
  },
  {
   "cell_type": "code",
   "execution_count": 44,
   "metadata": {},
   "outputs": [],
   "source": [
    "pmf_first = ts.Pmf(first.prglngth)\n",
    "pmf_other = ts.Pmf(other.prglngth)"
   ]
  },
  {
   "cell_type": "code",
   "execution_count": 49,
   "metadata": {},
   "outputs": [
    {
     "data": {
      "image/png": "[encoded data removed]",
      "text/plain": [
       "<Figure size 864x432 with 2 Axes>"
      ]
     },
     "metadata": {
      "needs_background": "light"
     },
     "output_type": "display_data"
    },
    {
     "data": {
      "text/plain": [
       "<Figure size 576x432 with 0 Axes>"
      ]
     },
     "metadata": {},
     "output_type": "display_data"
    }
   ],
   "source": [
    "w = .4\n",
    "tp.PrePlot(2, cols=2)\n",
    "tp.Hist(pmf_first, align='right', width=w)\n",
    "tp.Hist(pmf_other, align='left', width=w)\n",
    "tp.Config(xlabel='wks', ylabel='prob', axis=[27,46,0,0.7])\n",
    "tp.PrePlot(2)\n",
    "tp.SubPlot(2)\n",
    "tp.Pmfs([pmf_first, pmf_other])\n",
    "tp.Show(xlabel='wks', axis=[27,46,0,0.7])"
   ]
  },
  {
   "cell_type": "code",
   "execution_count": 50,
   "metadata": {},
   "outputs": [
    {
     "data": {
      "image/png": "[encoded data removed]",
      "text/plain": [
       "<Figure size 432x288 with 1 Axes>"
      ]
     },
     "metadata": {
      "needs_background": "light"
     },
     "output_type": "display_data"
    }
   ],
   "source": [
    "wks = range(35,46)\n",
    "dif = []\n",
    "for w in wks:\n",
    "    p1 = pmf_first.Prob(w)\n",
    "    p2 = pmf_other.Prob(w)\n",
    "    d = 100 * (p1 - p2)\n",
    "    dif.append(d)\n",
    "tp.Bar(wks,dif)"
   ]
  },
  {
   "cell_type": "code",
   "execution_count": null,
   "metadata": {},
   "outputs": [],
   "source": []
  }
 ],
 "metadata": {
  "kernelspec": {
   "display_name": "Python 3",
   "language": "python",
   "name": "python3"
  },
  "language_info": {
   "codemirror_mode": {
    "name": "ipython",
    "version": 3
   },
   "file_extension": ".py",
   "mimetype": "text/x-python",
   "name": "python",
   "nbconvert_exporter": "python",
   "pygments_lexer": "ipython3",
   "version": "3.8.1"
  }
 },
 "nbformat": 4,
 "nbformat_minor": 4
}
